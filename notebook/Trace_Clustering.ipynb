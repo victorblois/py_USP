{
 "cells": [
  {
   "cell_type": "code",
   "execution_count": 47,
   "metadata": {},
   "outputs": [],
   "source": [
    "from datetime import datetime\n",
    "import pandas as pd\n",
    "import numpy as np"
   ]
  },
  {
   "cell_type": "markdown",
   "metadata": {},
   "source": [
    "# Importar arquivo"
   ]
  },
  {
   "cell_type": "code",
   "execution_count": 3,
   "metadata": {},
   "outputs": [],
   "source": [
    "import os.path\n",
    "def path_base(base_name,folder):\n",
    "    current_dir = os.path.abspath(os.path.join(os.getcwd()))\n",
    "    print(current_dir)\n",
    "    data_dir = current_dir.replace('notebook',folder)\n",
    "    print(data_dir)\n",
    "    data_base = data_dir + '\\\\' + base_name\n",
    "    print(data_base)\n",
    "    return data_base"
   ]
  },
  {
   "cell_type": "code",
   "execution_count": 16,
   "metadata": {},
   "outputs": [
    {
     "name": "stdout",
     "output_type": "stream",
     "text": [
      "C:\\MyGit\\py_USP\\notebook\n",
      "C:\\MyGit\\py_USP\\data\n",
      "C:\\MyGit\\py_USP\\data\\simulation_logs.csv\n"
     ]
    }
   ],
   "source": [
    "dados = pd.read_csv(path_base('simulation_logs.csv','data'),sep=',')"
   ]
  },
  {
   "cell_type": "code",
   "execution_count": 17,
   "metadata": {},
   "outputs": [
    {
     "data": {
      "text/html": [
       "<div>\n",
       "<style scoped>\n",
       "    .dataframe tbody tr th:only-of-type {\n",
       "        vertical-align: middle;\n",
       "    }\n",
       "\n",
       "    .dataframe tbody tr th {\n",
       "        vertical-align: top;\n",
       "    }\n",
       "\n",
       "    .dataframe thead th {\n",
       "        text-align: right;\n",
       "    }\n",
       "</style>\n",
       "<table border=\"1\" class=\"dataframe\">\n",
       "  <thead>\n",
       "    <tr style=\"text-align: right;\">\n",
       "      <th></th>\n",
       "      <th>Case ID</th>\n",
       "      <th>Activity</th>\n",
       "      <th>case:variant</th>\n",
       "      <th>LogType</th>\n",
       "      <th>elementId</th>\n",
       "      <th>processId</th>\n",
       "      <th>lifecycle:transition</th>\n",
       "      <th>time:timestamp</th>\n",
       "      <th>org:resource</th>\n",
       "      <th>resourceCost</th>\n",
       "    </tr>\n",
       "  </thead>\n",
       "  <tbody>\n",
       "    <tr>\n",
       "      <th>0</th>\n",
       "      <td>192</td>\n",
       "      <td>EVENT 1 START</td>\n",
       "      <td>16</td>\n",
       "      <td>MXML.EnactmentLog</td>\n",
       "      <td>StartEvent_1nobalp</td>\n",
       "      <td>Process_000r8a1</td>\n",
       "      <td>assign</td>\n",
       "      <td>08/12/2020 13:34:22</td>\n",
       "      <td>NaN</td>\n",
       "      <td>NaN</td>\n",
       "    </tr>\n",
       "    <tr>\n",
       "      <th>1</th>\n",
       "      <td>192</td>\n",
       "      <td>EVENT 1 START</td>\n",
       "      <td>16</td>\n",
       "      <td>MXML.EnactmentLog</td>\n",
       "      <td>StartEvent_1nobalp</td>\n",
       "      <td>Process_000r8a1</td>\n",
       "      <td>start</td>\n",
       "      <td>08/12/2020 13:34:22</td>\n",
       "      <td>NaN</td>\n",
       "      <td>NaN</td>\n",
       "    </tr>\n",
       "    <tr>\n",
       "      <th>2</th>\n",
       "      <td>192</td>\n",
       "      <td>EVENT 1 START</td>\n",
       "      <td>16</td>\n",
       "      <td>MXML.EnactmentLog</td>\n",
       "      <td>StartEvent_1nobalp</td>\n",
       "      <td>Process_000r8a1</td>\n",
       "      <td>complete</td>\n",
       "      <td>08/12/2020 13:34:22</td>\n",
       "      <td>NaN</td>\n",
       "      <td>NaN</td>\n",
       "    </tr>\n",
       "  </tbody>\n",
       "</table>\n",
       "</div>"
      ],
      "text/plain": [
       "   Case ID       Activity  case:variant            LogType  \\\n",
       "0      192  EVENT 1 START            16  MXML.EnactmentLog   \n",
       "1      192  EVENT 1 START            16  MXML.EnactmentLog   \n",
       "2      192  EVENT 1 START            16  MXML.EnactmentLog   \n",
       "\n",
       "            elementId        processId lifecycle:transition  \\\n",
       "0  StartEvent_1nobalp  Process_000r8a1               assign   \n",
       "1  StartEvent_1nobalp  Process_000r8a1                start   \n",
       "2  StartEvent_1nobalp  Process_000r8a1             complete   \n",
       "\n",
       "        time:timestamp org:resource  resourceCost  \n",
       "0  08/12/2020 13:34:22          NaN           NaN  \n",
       "1  08/12/2020 13:34:22          NaN           NaN  \n",
       "2  08/12/2020 13:34:22          NaN           NaN  "
      ]
     },
     "execution_count": 17,
     "metadata": {},
     "output_type": "execute_result"
    }
   ],
   "source": [
    "dados.head(3)"
   ]
  },
  {
   "cell_type": "markdown",
   "metadata": {},
   "source": [
    "# Tratar arquivo"
   ]
  },
  {
   "cell_type": "markdown",
   "metadata": {},
   "source": [
    "### Eliminar colunas não usadas"
   ]
  },
  {
   "cell_type": "code",
   "execution_count": 18,
   "metadata": {},
   "outputs": [
    {
     "data": {
      "text/plain": [
       "Index(['Case ID', 'Activity', 'case:variant', 'LogType', 'elementId',\n",
       "       'processId', 'lifecycle:transition', 'time:timestamp', 'org:resource',\n",
       "       'resourceCost'],\n",
       "      dtype='object')"
      ]
     },
     "execution_count": 18,
     "metadata": {},
     "output_type": "execute_result"
    }
   ],
   "source": [
    "dados.columns"
   ]
  },
  {
   "cell_type": "code",
   "execution_count": 19,
   "metadata": {},
   "outputs": [],
   "source": [
    "columns_dados_1 = ['Case ID', 'Activity', 'case:variant', 'elementId',\n",
    "        'lifecycle:transition', 'time:timestamp', 'org:resource',\n",
    "       'resourceCost']"
   ]
  },
  {
   "cell_type": "code",
   "execution_count": 20,
   "metadata": {},
   "outputs": [],
   "source": [
    "dados = dados[columns_dados_1]"
   ]
  },
  {
   "cell_type": "code",
   "execution_count": 21,
   "metadata": {},
   "outputs": [
    {
     "data": {
      "text/plain": [
       "Index(['Case ID', 'Activity', 'case:variant', 'elementId',\n",
       "       'lifecycle:transition', 'time:timestamp', 'org:resource',\n",
       "       'resourceCost'],\n",
       "      dtype='object')"
      ]
     },
     "execution_count": 21,
     "metadata": {},
     "output_type": "execute_result"
    }
   ],
   "source": [
    "dados.columns"
   ]
  },
  {
   "cell_type": "markdown",
   "metadata": {},
   "source": [
    "### Renomear colunas"
   ]
  },
  {
   "cell_type": "code",
   "execution_count": 22,
   "metadata": {},
   "outputs": [],
   "source": [
    "dados.rename(columns={ 'Case ID': 'CaseId', 'case:variant': 'Variant', 'case:variant': 'Variant', \n",
    "                      'elementId': 'ElementId','lifecycle:transition': 'Transition',\n",
    "                     'time:timestamp': 'Time', 'org:resource': 'Resource', 'resourceCost': 'ResourceCost'}, inplace=True)"
   ]
  },
  {
   "cell_type": "code",
   "execution_count": 23,
   "metadata": {},
   "outputs": [
    {
     "data": {
      "text/plain": [
       "Index(['CaseId', 'Activity', 'Variant', 'ElementId', 'Transition', 'Time',\n",
       "       'Resource', 'ResourceCost'],\n",
       "      dtype='object')"
      ]
     },
     "execution_count": 23,
     "metadata": {},
     "output_type": "execute_result"
    }
   ],
   "source": [
    "dados.columns"
   ]
  },
  {
   "cell_type": "code",
   "execution_count": 24,
   "metadata": {},
   "outputs": [
    {
     "data": {
      "text/html": [
       "<div>\n",
       "<style scoped>\n",
       "    .dataframe tbody tr th:only-of-type {\n",
       "        vertical-align: middle;\n",
       "    }\n",
       "\n",
       "    .dataframe tbody tr th {\n",
       "        vertical-align: top;\n",
       "    }\n",
       "\n",
       "    .dataframe thead th {\n",
       "        text-align: right;\n",
       "    }\n",
       "</style>\n",
       "<table border=\"1\" class=\"dataframe\">\n",
       "  <thead>\n",
       "    <tr style=\"text-align: right;\">\n",
       "      <th></th>\n",
       "      <th>CaseId</th>\n",
       "      <th>Activity</th>\n",
       "      <th>Variant</th>\n",
       "      <th>ElementId</th>\n",
       "      <th>Transition</th>\n",
       "      <th>Time</th>\n",
       "      <th>Resource</th>\n",
       "      <th>ResourceCost</th>\n",
       "    </tr>\n",
       "  </thead>\n",
       "  <tbody>\n",
       "    <tr>\n",
       "      <th>0</th>\n",
       "      <td>192</td>\n",
       "      <td>EVENT 1 START</td>\n",
       "      <td>16</td>\n",
       "      <td>StartEvent_1nobalp</td>\n",
       "      <td>assign</td>\n",
       "      <td>08/12/2020 13:34:22</td>\n",
       "      <td>NaN</td>\n",
       "      <td>NaN</td>\n",
       "    </tr>\n",
       "    <tr>\n",
       "      <th>1</th>\n",
       "      <td>192</td>\n",
       "      <td>EVENT 1 START</td>\n",
       "      <td>16</td>\n",
       "      <td>StartEvent_1nobalp</td>\n",
       "      <td>start</td>\n",
       "      <td>08/12/2020 13:34:22</td>\n",
       "      <td>NaN</td>\n",
       "      <td>NaN</td>\n",
       "    </tr>\n",
       "    <tr>\n",
       "      <th>2</th>\n",
       "      <td>192</td>\n",
       "      <td>EVENT 1 START</td>\n",
       "      <td>16</td>\n",
       "      <td>StartEvent_1nobalp</td>\n",
       "      <td>complete</td>\n",
       "      <td>08/12/2020 13:34:22</td>\n",
       "      <td>NaN</td>\n",
       "      <td>NaN</td>\n",
       "    </tr>\n",
       "  </tbody>\n",
       "</table>\n",
       "</div>"
      ],
      "text/plain": [
       "   CaseId       Activity  Variant           ElementId Transition  \\\n",
       "0     192  EVENT 1 START       16  StartEvent_1nobalp     assign   \n",
       "1     192  EVENT 1 START       16  StartEvent_1nobalp      start   \n",
       "2     192  EVENT 1 START       16  StartEvent_1nobalp   complete   \n",
       "\n",
       "                  Time Resource  ResourceCost  \n",
       "0  08/12/2020 13:34:22      NaN           NaN  \n",
       "1  08/12/2020 13:34:22      NaN           NaN  \n",
       "2  08/12/2020 13:34:22      NaN           NaN  "
      ]
     },
     "execution_count": 24,
     "metadata": {},
     "output_type": "execute_result"
    }
   ],
   "source": [
    "dados.head(3)"
   ]
  },
  {
   "cell_type": "code",
   "execution_count": 25,
   "metadata": {},
   "outputs": [
    {
     "data": {
      "text/plain": [
       "CaseId            int64\n",
       "Activity         object\n",
       "Variant           int64\n",
       "ElementId        object\n",
       "Transition       object\n",
       "Time             object\n",
       "Resource         object\n",
       "ResourceCost    float64\n",
       "dtype: object"
      ]
     },
     "execution_count": 25,
     "metadata": {},
     "output_type": "execute_result"
    }
   ],
   "source": [
    "dados.dtypes"
   ]
  },
  {
   "cell_type": "code",
   "execution_count": 28,
   "metadata": {},
   "outputs": [],
   "source": [
    "dados['Activity'] = dados['Activity'].str.replace(' ', '_')"
   ]
  },
  {
   "cell_type": "code",
   "execution_count": 46,
   "metadata": {},
   "outputs": [
    {
     "data": {
      "text/html": [
       "<div>\n",
       "<style scoped>\n",
       "    .dataframe tbody tr th:only-of-type {\n",
       "        vertical-align: middle;\n",
       "    }\n",
       "\n",
       "    .dataframe tbody tr th {\n",
       "        vertical-align: top;\n",
       "    }\n",
       "\n",
       "    .dataframe thead th {\n",
       "        text-align: right;\n",
       "    }\n",
       "</style>\n",
       "<table border=\"1\" class=\"dataframe\">\n",
       "  <thead>\n",
       "    <tr style=\"text-align: right;\">\n",
       "      <th></th>\n",
       "      <th>CaseId</th>\n",
       "      <th>Activity</th>\n",
       "      <th>Variant</th>\n",
       "      <th>ElementId</th>\n",
       "      <th>Transition</th>\n",
       "      <th>Time</th>\n",
       "      <th>Resource</th>\n",
       "      <th>ResourceCost</th>\n",
       "    </tr>\n",
       "  </thead>\n",
       "  <tbody>\n",
       "    <tr>\n",
       "      <th>0</th>\n",
       "      <td>192</td>\n",
       "      <td>EVENT_1_START</td>\n",
       "      <td>16</td>\n",
       "      <td>StartEvent_1nobalp</td>\n",
       "      <td>assign</td>\n",
       "      <td>08/12/2020 13:34:22</td>\n",
       "      <td>NaN</td>\n",
       "      <td>NaN</td>\n",
       "    </tr>\n",
       "    <tr>\n",
       "      <th>1</th>\n",
       "      <td>192</td>\n",
       "      <td>EVENT_1_START</td>\n",
       "      <td>16</td>\n",
       "      <td>StartEvent_1nobalp</td>\n",
       "      <td>start</td>\n",
       "      <td>08/12/2020 13:34:22</td>\n",
       "      <td>NaN</td>\n",
       "      <td>NaN</td>\n",
       "    </tr>\n",
       "    <tr>\n",
       "      <th>2</th>\n",
       "      <td>192</td>\n",
       "      <td>EVENT_1_START</td>\n",
       "      <td>16</td>\n",
       "      <td>StartEvent_1nobalp</td>\n",
       "      <td>complete</td>\n",
       "      <td>08/12/2020 13:34:22</td>\n",
       "      <td>NaN</td>\n",
       "      <td>NaN</td>\n",
       "    </tr>\n",
       "    <tr>\n",
       "      <th>3</th>\n",
       "      <td>192</td>\n",
       "      <td>A</td>\n",
       "      <td>16</td>\n",
       "      <td>Activity_18jp21a</td>\n",
       "      <td>assign</td>\n",
       "      <td>08/12/2020 13:34:22</td>\n",
       "      <td>USR01</td>\n",
       "      <td>NaN</td>\n",
       "    </tr>\n",
       "    <tr>\n",
       "      <th>4</th>\n",
       "      <td>192</td>\n",
       "      <td>A</td>\n",
       "      <td>16</td>\n",
       "      <td>Activity_18jp21a</td>\n",
       "      <td>start</td>\n",
       "      <td>08/12/2020 15:10:50</td>\n",
       "      <td>NaN</td>\n",
       "      <td>NaN</td>\n",
       "    </tr>\n",
       "    <tr>\n",
       "      <th>5</th>\n",
       "      <td>192</td>\n",
       "      <td>A</td>\n",
       "      <td>16</td>\n",
       "      <td>Activity_18jp21a</td>\n",
       "      <td>complete</td>\n",
       "      <td>08/12/2020 15:13:16</td>\n",
       "      <td>NaN</td>\n",
       "      <td>0.407869</td>\n",
       "    </tr>\n",
       "  </tbody>\n",
       "</table>\n",
       "</div>"
      ],
      "text/plain": [
       "   CaseId       Activity  Variant           ElementId Transition  \\\n",
       "0     192  EVENT_1_START       16  StartEvent_1nobalp     assign   \n",
       "1     192  EVENT_1_START       16  StartEvent_1nobalp      start   \n",
       "2     192  EVENT_1_START       16  StartEvent_1nobalp   complete   \n",
       "3     192              A       16    Activity_18jp21a     assign   \n",
       "4     192              A       16    Activity_18jp21a      start   \n",
       "5     192              A       16    Activity_18jp21a   complete   \n",
       "\n",
       "                  Time Resource  ResourceCost  \n",
       "0  08/12/2020 13:34:22      NaN           NaN  \n",
       "1  08/12/2020 13:34:22      NaN           NaN  \n",
       "2  08/12/2020 13:34:22      NaN           NaN  \n",
       "3  08/12/2020 13:34:22    USR01           NaN  \n",
       "4  08/12/2020 15:10:50      NaN           NaN  \n",
       "5  08/12/2020 15:13:16      NaN      0.407869  "
      ]
     },
     "execution_count": 46,
     "metadata": {},
     "output_type": "execute_result"
    }
   ],
   "source": [
    "dados.head(6)"
   ]
  },
  {
   "cell_type": "code",
   "execution_count": 32,
   "metadata": {},
   "outputs": [
    {
     "data": {
      "text/plain": [
       "'08/12/2020 13:34:22'"
      ]
     },
     "execution_count": 32,
     "metadata": {},
     "output_type": "execute_result"
    }
   ],
   "source": [
    "dados['Time'][1]"
   ]
  },
  {
   "cell_type": "code",
   "execution_count": 40,
   "metadata": {},
   "outputs": [
    {
     "data": {
      "text/plain": [
       "'08/12/2020 13:34:22'"
      ]
     },
     "execution_count": 40,
     "metadata": {},
     "output_type": "execute_result"
    }
   ],
   "source": [
    "dados['Time'][1]"
   ]
  },
  {
   "cell_type": "markdown",
   "metadata": {},
   "source": [
    "### Transformar de str para datetime campo Time"
   ]
  },
  {
   "cell_type": "code",
   "execution_count": 42,
   "metadata": {},
   "outputs": [
    {
     "name": "stdout",
     "output_type": "stream",
     "text": [
      "2020-12-08 13:34:22\n",
      "YYYYMMDD HH:mm:ss (20201208 13:34:22)\n"
     ]
    }
   ],
   "source": [
    "inDate = '08/12/2020 13:34:22'\n",
    "d = datetime.strptime(inDate, \"%d/%m/%Y %H:%M:%S\")\n",
    "print(d)\n",
    "print(d.strftime(\"YYYYMMDD HH:mm:ss (%Y%m%d %H:%M:%S)\"))"
   ]
  },
  {
   "cell_type": "code",
   "execution_count": null,
   "metadata": {},
   "outputs": [],
   "source": [
    "#dados['Time'] = datetime.strptime(dados['Time'], \"%d/%m/%Y %H:%M:%S\")"
   ]
  },
  {
   "cell_type": "code",
   "execution_count": null,
   "metadata": {},
   "outputs": [],
   "source": []
  }
 ],
 "metadata": {
  "kernelspec": {
   "display_name": "Python 3",
   "language": "python",
   "name": "python3"
  },
  "language_info": {
   "codemirror_mode": {
    "name": "ipython",
    "version": 3
   },
   "file_extension": ".py",
   "mimetype": "text/x-python",
   "name": "python",
   "nbconvert_exporter": "python",
   "pygments_lexer": "ipython3",
   "version": "3.8.3"
  }
 },
 "nbformat": 4,
 "nbformat_minor": 4
}
